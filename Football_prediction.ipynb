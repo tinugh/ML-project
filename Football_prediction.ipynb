{
  "nbformat": 4,
  "nbformat_minor": 0,
  "metadata": {
    "colab": {
      "provenance": [],
      "authorship_tag": "ABX9TyNdLm35QcFINXFsUVVCDNsg",
      "include_colab_link": true
    },
    "kernelspec": {
      "name": "python3",
      "display_name": "Python 3"
    },
    "language_info": {
      "name": "python"
    }
  },
  "cells": [
    {
      "cell_type": "markdown",
      "metadata": {
        "id": "view-in-github",
        "colab_type": "text"
      },
      "source": [
        "<a href=\"https://colab.research.google.com/github/tinugh/ML-project/blob/main/Football_prediction.ipynb\" target=\"_parent\"><img src=\"https://colab.research.google.com/assets/colab-badge.svg\" alt=\"Open In Colab\"/></a>"
      ]
    },
    {
      "cell_type": "markdown",
      "source": [
        "PREDICTING FOOTBALL MATCH WINNERS"
      ],
      "metadata": {
        "id": "rHc_oWih7vzy"
      }
    },
    {
      "cell_type": "markdown",
      "source": [
        "IMPORTING PYHTON LIBRARIES"
      ],
      "metadata": {
        "id": "0MfO3IXdANS7"
      }
    },
    {
      "cell_type": "code",
      "source": [
        "import pandas as pd\n",
        "import numpy as np\n",
        "#importing visualisation packages\n",
        "import matplotlib.pyplot as plt\n",
        "import seaborn as sns"
      ],
      "metadata": {
        "id": "407ecJoFATAB"
      },
      "execution_count": null,
      "outputs": []
    },
    {
      "cell_type": "code",
      "source": [
        "import pandas as pd\n",
        "import numpy as np\n",
        "df=pd.read_csv('/content/raw.githubusercontent.com_dataquestio_project-walkthroughs_master_football_matches_matches.csv')"
      ],
      "metadata": {
        "id": "iefC3HdKfnzD"
      },
      "execution_count": null,
      "outputs": []
    },
    {
      "cell_type": "code",
      "source": [
        "#head\n",
        "df.head()"
      ],
      "metadata": {
        "colab": {
          "base_uri": "https://localhost:8080/",
          "height": 383
        },
        "id": "D-_AqhsWf3Fd",
        "outputId": "8295aba3-404f-41c9-8d79-1ca56498c941"
      },
      "execution_count": null,
      "outputs": [
        {
          "output_type": "execute_result",
          "data": {
            "text/plain": [
              "   Unnamed: 0        date   time            comp        round  day venue  \\\n",
              "0           1  2021-08-15  16:30  Premier League  Matchweek 1  Sun  Away   \n",
              "1           2  2021-08-21  15:00  Premier League  Matchweek 2  Sat  Home   \n",
              "2           3  2021-08-28  12:30  Premier League  Matchweek 3  Sat  Home   \n",
              "3           4  2021-09-11  15:00  Premier League  Matchweek 4  Sat  Away   \n",
              "4           6  2021-09-18  15:00  Premier League  Matchweek 5  Sat  Home   \n",
              "\n",
              "  result   gf   ga  ...  match report  notes    sh   sot  dist   fk   pk  \\\n",
              "0      L  0.0  1.0  ...  Match Report    NaN  18.0   4.0  16.9  1.0  0.0   \n",
              "1      W  5.0  0.0  ...  Match Report    NaN  16.0   4.0  17.3  1.0  0.0   \n",
              "2      W  5.0  0.0  ...  Match Report    NaN  25.0  10.0  14.3  0.0  0.0   \n",
              "3      W  1.0  0.0  ...  Match Report    NaN  25.0   8.0  14.0  0.0  0.0   \n",
              "4      D  0.0  0.0  ...  Match Report    NaN  16.0   1.0  15.7  1.0  0.0   \n",
              "\n",
              "  pkatt season             team  \n",
              "0   0.0   2022  Manchester City  \n",
              "1   0.0   2022  Manchester City  \n",
              "2   0.0   2022  Manchester City  \n",
              "3   0.0   2022  Manchester City  \n",
              "4   0.0   2022  Manchester City  \n",
              "\n",
              "[5 rows x 28 columns]"
            ],
            "text/html": [
              "\n",
              "  <div id=\"df-b6922663-fcee-44d7-9139-cf9730a365e4\">\n",
              "    <div class=\"colab-df-container\">\n",
              "      <div>\n",
              "<style scoped>\n",
              "    .dataframe tbody tr th:only-of-type {\n",
              "        vertical-align: middle;\n",
              "    }\n",
              "\n",
              "    .dataframe tbody tr th {\n",
              "        vertical-align: top;\n",
              "    }\n",
              "\n",
              "    .dataframe thead th {\n",
              "        text-align: right;\n",
              "    }\n",
              "</style>\n",
              "<table border=\"1\" class=\"dataframe\">\n",
              "  <thead>\n",
              "    <tr style=\"text-align: right;\">\n",
              "      <th></th>\n",
              "      <th>Unnamed: 0</th>\n",
              "      <th>date</th>\n",
              "      <th>time</th>\n",
              "      <th>comp</th>\n",
              "      <th>round</th>\n",
              "      <th>day</th>\n",
              "      <th>venue</th>\n",
              "      <th>result</th>\n",
              "      <th>gf</th>\n",
              "      <th>ga</th>\n",
              "      <th>...</th>\n",
              "      <th>match report</th>\n",
              "      <th>notes</th>\n",
              "      <th>sh</th>\n",
              "      <th>sot</th>\n",
              "      <th>dist</th>\n",
              "      <th>fk</th>\n",
              "      <th>pk</th>\n",
              "      <th>pkatt</th>\n",
              "      <th>season</th>\n",
              "      <th>team</th>\n",
              "    </tr>\n",
              "  </thead>\n",
              "  <tbody>\n",
              "    <tr>\n",
              "      <th>0</th>\n",
              "      <td>1</td>\n",
              "      <td>2021-08-15</td>\n",
              "      <td>16:30</td>\n",
              "      <td>Premier League</td>\n",
              "      <td>Matchweek 1</td>\n",
              "      <td>Sun</td>\n",
              "      <td>Away</td>\n",
              "      <td>L</td>\n",
              "      <td>0.0</td>\n",
              "      <td>1.0</td>\n",
              "      <td>...</td>\n",
              "      <td>Match Report</td>\n",
              "      <td>NaN</td>\n",
              "      <td>18.0</td>\n",
              "      <td>4.0</td>\n",
              "      <td>16.9</td>\n",
              "      <td>1.0</td>\n",
              "      <td>0.0</td>\n",
              "      <td>0.0</td>\n",
              "      <td>2022</td>\n",
              "      <td>Manchester City</td>\n",
              "    </tr>\n",
              "    <tr>\n",
              "      <th>1</th>\n",
              "      <td>2</td>\n",
              "      <td>2021-08-21</td>\n",
              "      <td>15:00</td>\n",
              "      <td>Premier League</td>\n",
              "      <td>Matchweek 2</td>\n",
              "      <td>Sat</td>\n",
              "      <td>Home</td>\n",
              "      <td>W</td>\n",
              "      <td>5.0</td>\n",
              "      <td>0.0</td>\n",
              "      <td>...</td>\n",
              "      <td>Match Report</td>\n",
              "      <td>NaN</td>\n",
              "      <td>16.0</td>\n",
              "      <td>4.0</td>\n",
              "      <td>17.3</td>\n",
              "      <td>1.0</td>\n",
              "      <td>0.0</td>\n",
              "      <td>0.0</td>\n",
              "      <td>2022</td>\n",
              "      <td>Manchester City</td>\n",
              "    </tr>\n",
              "    <tr>\n",
              "      <th>2</th>\n",
              "      <td>3</td>\n",
              "      <td>2021-08-28</td>\n",
              "      <td>12:30</td>\n",
              "      <td>Premier League</td>\n",
              "      <td>Matchweek 3</td>\n",
              "      <td>Sat</td>\n",
              "      <td>Home</td>\n",
              "      <td>W</td>\n",
              "      <td>5.0</td>\n",
              "      <td>0.0</td>\n",
              "      <td>...</td>\n",
              "      <td>Match Report</td>\n",
              "      <td>NaN</td>\n",
              "      <td>25.0</td>\n",
              "      <td>10.0</td>\n",
              "      <td>14.3</td>\n",
              "      <td>0.0</td>\n",
              "      <td>0.0</td>\n",
              "      <td>0.0</td>\n",
              "      <td>2022</td>\n",
              "      <td>Manchester City</td>\n",
              "    </tr>\n",
              "    <tr>\n",
              "      <th>3</th>\n",
              "      <td>4</td>\n",
              "      <td>2021-09-11</td>\n",
              "      <td>15:00</td>\n",
              "      <td>Premier League</td>\n",
              "      <td>Matchweek 4</td>\n",
              "      <td>Sat</td>\n",
              "      <td>Away</td>\n",
              "      <td>W</td>\n",
              "      <td>1.0</td>\n",
              "      <td>0.0</td>\n",
              "      <td>...</td>\n",
              "      <td>Match Report</td>\n",
              "      <td>NaN</td>\n",
              "      <td>25.0</td>\n",
              "      <td>8.0</td>\n",
              "      <td>14.0</td>\n",
              "      <td>0.0</td>\n",
              "      <td>0.0</td>\n",
              "      <td>0.0</td>\n",
              "      <td>2022</td>\n",
              "      <td>Manchester City</td>\n",
              "    </tr>\n",
              "    <tr>\n",
              "      <th>4</th>\n",
              "      <td>6</td>\n",
              "      <td>2021-09-18</td>\n",
              "      <td>15:00</td>\n",
              "      <td>Premier League</td>\n",
              "      <td>Matchweek 5</td>\n",
              "      <td>Sat</td>\n",
              "      <td>Home</td>\n",
              "      <td>D</td>\n",
              "      <td>0.0</td>\n",
              "      <td>0.0</td>\n",
              "      <td>...</td>\n",
              "      <td>Match Report</td>\n",
              "      <td>NaN</td>\n",
              "      <td>16.0</td>\n",
              "      <td>1.0</td>\n",
              "      <td>15.7</td>\n",
              "      <td>1.0</td>\n",
              "      <td>0.0</td>\n",
              "      <td>0.0</td>\n",
              "      <td>2022</td>\n",
              "      <td>Manchester City</td>\n",
              "    </tr>\n",
              "  </tbody>\n",
              "</table>\n",
              "<p>5 rows × 28 columns</p>\n",
              "</div>\n",
              "      <button class=\"colab-df-convert\" onclick=\"convertToInteractive('df-b6922663-fcee-44d7-9139-cf9730a365e4')\"\n",
              "              title=\"Convert this dataframe to an interactive table.\"\n",
              "              style=\"display:none;\">\n",
              "        \n",
              "  <svg xmlns=\"http://www.w3.org/2000/svg\" height=\"24px\"viewBox=\"0 0 24 24\"\n",
              "       width=\"24px\">\n",
              "    <path d=\"M0 0h24v24H0V0z\" fill=\"none\"/>\n",
              "    <path d=\"M18.56 5.44l.94 2.06.94-2.06 2.06-.94-2.06-.94-.94-2.06-.94 2.06-2.06.94zm-11 1L8.5 8.5l.94-2.06 2.06-.94-2.06-.94L8.5 2.5l-.94 2.06-2.06.94zm10 10l.94 2.06.94-2.06 2.06-.94-2.06-.94-.94-2.06-.94 2.06-2.06.94z\"/><path d=\"M17.41 7.96l-1.37-1.37c-.4-.4-.92-.59-1.43-.59-.52 0-1.04.2-1.43.59L10.3 9.45l-7.72 7.72c-.78.78-.78 2.05 0 2.83L4 21.41c.39.39.9.59 1.41.59.51 0 1.02-.2 1.41-.59l7.78-7.78 2.81-2.81c.8-.78.8-2.07 0-2.86zM5.41 20L4 18.59l7.72-7.72 1.47 1.35L5.41 20z\"/>\n",
              "  </svg>\n",
              "      </button>\n",
              "      \n",
              "  <style>\n",
              "    .colab-df-container {\n",
              "      display:flex;\n",
              "      flex-wrap:wrap;\n",
              "      gap: 12px;\n",
              "    }\n",
              "\n",
              "    .colab-df-convert {\n",
              "      background-color: #E8F0FE;\n",
              "      border: none;\n",
              "      border-radius: 50%;\n",
              "      cursor: pointer;\n",
              "      display: none;\n",
              "      fill: #1967D2;\n",
              "      height: 32px;\n",
              "      padding: 0 0 0 0;\n",
              "      width: 32px;\n",
              "    }\n",
              "\n",
              "    .colab-df-convert:hover {\n",
              "      background-color: #E2EBFA;\n",
              "      box-shadow: 0px 1px 2px rgba(60, 64, 67, 0.3), 0px 1px 3px 1px rgba(60, 64, 67, 0.15);\n",
              "      fill: #174EA6;\n",
              "    }\n",
              "\n",
              "    [theme=dark] .colab-df-convert {\n",
              "      background-color: #3B4455;\n",
              "      fill: #D2E3FC;\n",
              "    }\n",
              "\n",
              "    [theme=dark] .colab-df-convert:hover {\n",
              "      background-color: #434B5C;\n",
              "      box-shadow: 0px 1px 3px 1px rgba(0, 0, 0, 0.15);\n",
              "      filter: drop-shadow(0px 1px 2px rgba(0, 0, 0, 0.3));\n",
              "      fill: #FFFFFF;\n",
              "    }\n",
              "  </style>\n",
              "\n",
              "      <script>\n",
              "        const buttonEl =\n",
              "          document.querySelector('#df-b6922663-fcee-44d7-9139-cf9730a365e4 button.colab-df-convert');\n",
              "        buttonEl.style.display =\n",
              "          google.colab.kernel.accessAllowed ? 'block' : 'none';\n",
              "\n",
              "        async function convertToInteractive(key) {\n",
              "          const element = document.querySelector('#df-b6922663-fcee-44d7-9139-cf9730a365e4');\n",
              "          const dataTable =\n",
              "            await google.colab.kernel.invokeFunction('convertToInteractive',\n",
              "                                                     [key], {});\n",
              "          if (!dataTable) return;\n",
              "\n",
              "          const docLinkHtml = 'Like what you see? Visit the ' +\n",
              "            '<a target=\"_blank\" href=https://colab.research.google.com/notebooks/data_table.ipynb>data table notebook</a>'\n",
              "            + ' to learn more about interactive tables.';\n",
              "          element.innerHTML = '';\n",
              "          dataTable['output_type'] = 'display_data';\n",
              "          await google.colab.output.renderOutput(dataTable, element);\n",
              "          const docLink = document.createElement('div');\n",
              "          docLink.innerHTML = docLinkHtml;\n",
              "          element.appendChild(docLink);\n",
              "        }\n",
              "      </script>\n",
              "    </div>\n",
              "  </div>\n",
              "  "
            ]
          },
          "metadata": {},
          "execution_count": 306
        }
      ]
    },
    {
      "cell_type": "code",
      "source": [
        "#columns\n",
        "df.columns"
      ],
      "metadata": {
        "colab": {
          "base_uri": "https://localhost:8080/"
        },
        "id": "y9oUIWzOf6C1",
        "outputId": "f440fda5-a1c2-4112-b39e-5ca188a1b70f"
      },
      "execution_count": null,
      "outputs": [
        {
          "output_type": "execute_result",
          "data": {
            "text/plain": [
              "Index(['Unnamed: 0', 'date', 'time', 'comp', 'round', 'day', 'venue', 'result',\n",
              "       'gf', 'ga', 'opponent', 'xg', 'xga', 'poss', 'attendance', 'captain',\n",
              "       'formation', 'referee', 'match report', 'notes', 'sh', 'sot', 'dist',\n",
              "       'fk', 'pk', 'pkatt', 'season', 'team'],\n",
              "      dtype='object')"
            ]
          },
          "metadata": {},
          "execution_count": 307
        }
      ]
    },
    {
      "cell_type": "markdown",
      "source": [
        "DATA CLEANING"
      ],
      "metadata": {
        "id": "xa3vY33BrEYd"
      }
    },
    {
      "cell_type": "code",
      "source": [
        "#dtypes\n",
        "df.dtypes"
      ],
      "metadata": {
        "colab": {
          "base_uri": "https://localhost:8080/"
        },
        "id": "0fKdCKU1f8rC",
        "outputId": "f17a7f7e-dd86-4c52-8834-39e51c2ed4f9"
      },
      "execution_count": null,
      "outputs": [
        {
          "output_type": "execute_result",
          "data": {
            "text/plain": [
              "Unnamed: 0        int64\n",
              "date             object\n",
              "time             object\n",
              "comp             object\n",
              "round            object\n",
              "day              object\n",
              "venue            object\n",
              "result           object\n",
              "gf              float64\n",
              "ga              float64\n",
              "opponent         object\n",
              "xg              float64\n",
              "xga             float64\n",
              "poss            float64\n",
              "attendance      float64\n",
              "captain          object\n",
              "formation        object\n",
              "referee          object\n",
              "match report     object\n",
              "notes           float64\n",
              "sh              float64\n",
              "sot             float64\n",
              "dist            float64\n",
              "fk              float64\n",
              "pk              float64\n",
              "pkatt           float64\n",
              "season            int64\n",
              "team             object\n",
              "dtype: object"
            ]
          },
          "metadata": {},
          "execution_count": 308
        }
      ]
    },
    {
      "cell_type": "code",
      "source": [
        "#match report\n",
        "df['match report'].value_counts()\n",
        "#only 1 data match report"
      ],
      "metadata": {
        "colab": {
          "base_uri": "https://localhost:8080/"
        },
        "id": "Vrfubha1stE_",
        "outputId": "0b0e95d0-a1c8-4510-9d92-2be6d49bc21a"
      },
      "execution_count": null,
      "outputs": [
        {
          "output_type": "execute_result",
          "data": {
            "text/plain": [
              "Match Report    1389\n",
              "Name: match report, dtype: int64"
            ]
          },
          "metadata": {},
          "execution_count": 309
        }
      ]
    },
    {
      "cell_type": "code",
      "source": [
        "#notes\n",
        "df['notes'].value_counts()\n",
        "#so full of missing values"
      ],
      "metadata": {
        "colab": {
          "base_uri": "https://localhost:8080/"
        },
        "id": "EK-XphV_tPTp",
        "outputId": "2533198c-e7b6-4570-b7ce-9bf7396ddc08"
      },
      "execution_count": null,
      "outputs": [
        {
          "output_type": "execute_result",
          "data": {
            "text/plain": [
              "Series([], Name: notes, dtype: int64)"
            ]
          },
          "metadata": {},
          "execution_count": 310
        }
      ]
    },
    {
      "cell_type": "code",
      "source": [
        "#comp\n",
        "df['comp'].value_counts()\n",
        "#only one data"
      ],
      "metadata": {
        "colab": {
          "base_uri": "https://localhost:8080/"
        },
        "id": "t7en2yTQw_Vr",
        "outputId": "cffcd0f9-7c94-47af-9328-70ff1234cdbe"
      },
      "execution_count": null,
      "outputs": [
        {
          "output_type": "execute_result",
          "data": {
            "text/plain": [
              "Premier League    1389\n",
              "Name: comp, dtype: int64"
            ]
          },
          "metadata": {},
          "execution_count": 311
        }
      ]
    },
    {
      "cell_type": "code",
      "source": [
        "#data information\n",
        "df.info()"
      ],
      "metadata": {
        "colab": {
          "base_uri": "https://localhost:8080/"
        },
        "id": "9PPOY5Hbr0JW",
        "outputId": "2af585e3-ed1a-42ff-a68e-36befb5dcc58"
      },
      "execution_count": null,
      "outputs": [
        {
          "output_type": "stream",
          "name": "stdout",
          "text": [
            "<class 'pandas.core.frame.DataFrame'>\n",
            "RangeIndex: 1389 entries, 0 to 1388\n",
            "Data columns (total 28 columns):\n",
            " #   Column        Non-Null Count  Dtype  \n",
            "---  ------        --------------  -----  \n",
            " 0   Unnamed: 0    1389 non-null   int64  \n",
            " 1   date          1389 non-null   object \n",
            " 2   time          1389 non-null   object \n",
            " 3   comp          1389 non-null   object \n",
            " 4   round         1389 non-null   object \n",
            " 5   day           1389 non-null   object \n",
            " 6   venue         1389 non-null   object \n",
            " 7   result        1389 non-null   object \n",
            " 8   gf            1389 non-null   float64\n",
            " 9   ga            1389 non-null   float64\n",
            " 10  opponent      1389 non-null   object \n",
            " 11  xg            1389 non-null   float64\n",
            " 12  xga           1389 non-null   float64\n",
            " 13  poss          1389 non-null   float64\n",
            " 14  attendance    693 non-null    float64\n",
            " 15  captain       1389 non-null   object \n",
            " 16  formation     1389 non-null   object \n",
            " 17  referee       1389 non-null   object \n",
            " 18  match report  1389 non-null   object \n",
            " 19  notes         0 non-null      float64\n",
            " 20  sh            1389 non-null   float64\n",
            " 21  sot           1389 non-null   float64\n",
            " 22  dist          1388 non-null   float64\n",
            " 23  fk            1389 non-null   float64\n",
            " 24  pk            1389 non-null   float64\n",
            " 25  pkatt         1389 non-null   float64\n",
            " 26  season        1389 non-null   int64  \n",
            " 27  team          1389 non-null   object \n",
            "dtypes: float64(13), int64(2), object(13)\n",
            "memory usage: 304.0+ KB\n"
          ]
        }
      ]
    },
    {
      "cell_type": "code",
      "source": [
        "#selecting only required columns for machine learning\n",
        "new_df=df[['round','venue','result','gf','ga','opponent','xg','xga','poss','sh','sot','dist','fk','pk','pkatt','season','team']]\n",
        "new_df"
      ],
      "metadata": {
        "colab": {
          "base_uri": "https://localhost:8080/",
          "height": 423
        },
        "id": "zIjJ-DkVgdWa",
        "outputId": "8a1d0e35-dc01-45f5-8994-228517bc5115"
      },
      "execution_count": null,
      "outputs": [
        {
          "output_type": "execute_result",
          "data": {
            "text/plain": [
              "             round venue result   gf   ga        opponent   xg  xga  poss  \\\n",
              "0      Matchweek 1  Away      L  0.0  1.0       Tottenham  1.9  1.3  64.0   \n",
              "1      Matchweek 2  Home      W  5.0  0.0    Norwich City  2.7  0.1  67.0   \n",
              "2      Matchweek 3  Home      W  5.0  0.0         Arsenal  3.8  0.1  80.0   \n",
              "3      Matchweek 4  Away      W  1.0  0.0  Leicester City  2.9  0.8  61.0   \n",
              "4      Matchweek 5  Home      D  0.0  0.0     Southampton  1.1  0.4  63.0   \n",
              "...            ...   ...    ...  ...  ...             ...  ...  ...   ...   \n",
              "1384  Matchweek 34  Away      L  0.0  4.0       Tottenham  0.5  2.0  34.0   \n",
              "1385  Matchweek 35  Home      L  0.0  2.0  Crystal Palace  0.7  2.1  50.0   \n",
              "1386  Matchweek 36  Away      W  1.0  0.0         Everton  1.6  1.3  38.0   \n",
              "1387  Matchweek 37  Away      L  0.0  1.0   Newcastle Utd  0.8  1.5  50.0   \n",
              "1388  Matchweek 38  Home      W  1.0  0.0         Burnley  0.6  1.0  41.0   \n",
              "\n",
              "        sh   sot  dist   fk   pk  pkatt  season              team  \n",
              "0     18.0   4.0  16.9  1.0  0.0    0.0    2022   Manchester City  \n",
              "1     16.0   4.0  17.3  1.0  0.0    0.0    2022   Manchester City  \n",
              "2     25.0  10.0  14.3  0.0  0.0    0.0    2022   Manchester City  \n",
              "3     25.0   8.0  14.0  0.0  0.0    0.0    2022   Manchester City  \n",
              "4     16.0   1.0  15.7  1.0  0.0    0.0    2022   Manchester City  \n",
              "...    ...   ...   ...  ...  ...    ...     ...               ...  \n",
              "1384   8.0   1.0  17.4  0.0  0.0    0.0    2021  Sheffield United  \n",
              "1385   7.0   0.0  11.4  1.0  0.0    0.0    2021  Sheffield United  \n",
              "1386  10.0   3.0  17.0  0.0  0.0    0.0    2021  Sheffield United  \n",
              "1387  11.0   1.0  16.0  1.0  0.0    0.0    2021  Sheffield United  \n",
              "1388  12.0   3.0  17.0  0.0  0.0    0.0    2021  Sheffield United  \n",
              "\n",
              "[1389 rows x 17 columns]"
            ],
            "text/html": [
              "\n",
              "  <div id=\"df-d6d3e80c-75eb-4d96-b6b8-24c14d82ad26\">\n",
              "    <div class=\"colab-df-container\">\n",
              "      <div>\n",
              "<style scoped>\n",
              "    .dataframe tbody tr th:only-of-type {\n",
              "        vertical-align: middle;\n",
              "    }\n",
              "\n",
              "    .dataframe tbody tr th {\n",
              "        vertical-align: top;\n",
              "    }\n",
              "\n",
              "    .dataframe thead th {\n",
              "        text-align: right;\n",
              "    }\n",
              "</style>\n",
              "<table border=\"1\" class=\"dataframe\">\n",
              "  <thead>\n",
              "    <tr style=\"text-align: right;\">\n",
              "      <th></th>\n",
              "      <th>round</th>\n",
              "      <th>venue</th>\n",
              "      <th>result</th>\n",
              "      <th>gf</th>\n",
              "      <th>ga</th>\n",
              "      <th>opponent</th>\n",
              "      <th>xg</th>\n",
              "      <th>xga</th>\n",
              "      <th>poss</th>\n",
              "      <th>sh</th>\n",
              "      <th>sot</th>\n",
              "      <th>dist</th>\n",
              "      <th>fk</th>\n",
              "      <th>pk</th>\n",
              "      <th>pkatt</th>\n",
              "      <th>season</th>\n",
              "      <th>team</th>\n",
              "    </tr>\n",
              "  </thead>\n",
              "  <tbody>\n",
              "    <tr>\n",
              "      <th>0</th>\n",
              "      <td>Matchweek 1</td>\n",
              "      <td>Away</td>\n",
              "      <td>L</td>\n",
              "      <td>0.0</td>\n",
              "      <td>1.0</td>\n",
              "      <td>Tottenham</td>\n",
              "      <td>1.9</td>\n",
              "      <td>1.3</td>\n",
              "      <td>64.0</td>\n",
              "      <td>18.0</td>\n",
              "      <td>4.0</td>\n",
              "      <td>16.9</td>\n",
              "      <td>1.0</td>\n",
              "      <td>0.0</td>\n",
              "      <td>0.0</td>\n",
              "      <td>2022</td>\n",
              "      <td>Manchester City</td>\n",
              "    </tr>\n",
              "    <tr>\n",
              "      <th>1</th>\n",
              "      <td>Matchweek 2</td>\n",
              "      <td>Home</td>\n",
              "      <td>W</td>\n",
              "      <td>5.0</td>\n",
              "      <td>0.0</td>\n",
              "      <td>Norwich City</td>\n",
              "      <td>2.7</td>\n",
              "      <td>0.1</td>\n",
              "      <td>67.0</td>\n",
              "      <td>16.0</td>\n",
              "      <td>4.0</td>\n",
              "      <td>17.3</td>\n",
              "      <td>1.0</td>\n",
              "      <td>0.0</td>\n",
              "      <td>0.0</td>\n",
              "      <td>2022</td>\n",
              "      <td>Manchester City</td>\n",
              "    </tr>\n",
              "    <tr>\n",
              "      <th>2</th>\n",
              "      <td>Matchweek 3</td>\n",
              "      <td>Home</td>\n",
              "      <td>W</td>\n",
              "      <td>5.0</td>\n",
              "      <td>0.0</td>\n",
              "      <td>Arsenal</td>\n",
              "      <td>3.8</td>\n",
              "      <td>0.1</td>\n",
              "      <td>80.0</td>\n",
              "      <td>25.0</td>\n",
              "      <td>10.0</td>\n",
              "      <td>14.3</td>\n",
              "      <td>0.0</td>\n",
              "      <td>0.0</td>\n",
              "      <td>0.0</td>\n",
              "      <td>2022</td>\n",
              "      <td>Manchester City</td>\n",
              "    </tr>\n",
              "    <tr>\n",
              "      <th>3</th>\n",
              "      <td>Matchweek 4</td>\n",
              "      <td>Away</td>\n",
              "      <td>W</td>\n",
              "      <td>1.0</td>\n",
              "      <td>0.0</td>\n",
              "      <td>Leicester City</td>\n",
              "      <td>2.9</td>\n",
              "      <td>0.8</td>\n",
              "      <td>61.0</td>\n",
              "      <td>25.0</td>\n",
              "      <td>8.0</td>\n",
              "      <td>14.0</td>\n",
              "      <td>0.0</td>\n",
              "      <td>0.0</td>\n",
              "      <td>0.0</td>\n",
              "      <td>2022</td>\n",
              "      <td>Manchester City</td>\n",
              "    </tr>\n",
              "    <tr>\n",
              "      <th>4</th>\n",
              "      <td>Matchweek 5</td>\n",
              "      <td>Home</td>\n",
              "      <td>D</td>\n",
              "      <td>0.0</td>\n",
              "      <td>0.0</td>\n",
              "      <td>Southampton</td>\n",
              "      <td>1.1</td>\n",
              "      <td>0.4</td>\n",
              "      <td>63.0</td>\n",
              "      <td>16.0</td>\n",
              "      <td>1.0</td>\n",
              "      <td>15.7</td>\n",
              "      <td>1.0</td>\n",
              "      <td>0.0</td>\n",
              "      <td>0.0</td>\n",
              "      <td>2022</td>\n",
              "      <td>Manchester City</td>\n",
              "    </tr>\n",
              "    <tr>\n",
              "      <th>...</th>\n",
              "      <td>...</td>\n",
              "      <td>...</td>\n",
              "      <td>...</td>\n",
              "      <td>...</td>\n",
              "      <td>...</td>\n",
              "      <td>...</td>\n",
              "      <td>...</td>\n",
              "      <td>...</td>\n",
              "      <td>...</td>\n",
              "      <td>...</td>\n",
              "      <td>...</td>\n",
              "      <td>...</td>\n",
              "      <td>...</td>\n",
              "      <td>...</td>\n",
              "      <td>...</td>\n",
              "      <td>...</td>\n",
              "      <td>...</td>\n",
              "    </tr>\n",
              "    <tr>\n",
              "      <th>1384</th>\n",
              "      <td>Matchweek 34</td>\n",
              "      <td>Away</td>\n",
              "      <td>L</td>\n",
              "      <td>0.0</td>\n",
              "      <td>4.0</td>\n",
              "      <td>Tottenham</td>\n",
              "      <td>0.5</td>\n",
              "      <td>2.0</td>\n",
              "      <td>34.0</td>\n",
              "      <td>8.0</td>\n",
              "      <td>1.0</td>\n",
              "      <td>17.4</td>\n",
              "      <td>0.0</td>\n",
              "      <td>0.0</td>\n",
              "      <td>0.0</td>\n",
              "      <td>2021</td>\n",
              "      <td>Sheffield United</td>\n",
              "    </tr>\n",
              "    <tr>\n",
              "      <th>1385</th>\n",
              "      <td>Matchweek 35</td>\n",
              "      <td>Home</td>\n",
              "      <td>L</td>\n",
              "      <td>0.0</td>\n",
              "      <td>2.0</td>\n",
              "      <td>Crystal Palace</td>\n",
              "      <td>0.7</td>\n",
              "      <td>2.1</td>\n",
              "      <td>50.0</td>\n",
              "      <td>7.0</td>\n",
              "      <td>0.0</td>\n",
              "      <td>11.4</td>\n",
              "      <td>1.0</td>\n",
              "      <td>0.0</td>\n",
              "      <td>0.0</td>\n",
              "      <td>2021</td>\n",
              "      <td>Sheffield United</td>\n",
              "    </tr>\n",
              "    <tr>\n",
              "      <th>1386</th>\n",
              "      <td>Matchweek 36</td>\n",
              "      <td>Away</td>\n",
              "      <td>W</td>\n",
              "      <td>1.0</td>\n",
              "      <td>0.0</td>\n",
              "      <td>Everton</td>\n",
              "      <td>1.6</td>\n",
              "      <td>1.3</td>\n",
              "      <td>38.0</td>\n",
              "      <td>10.0</td>\n",
              "      <td>3.0</td>\n",
              "      <td>17.0</td>\n",
              "      <td>0.0</td>\n",
              "      <td>0.0</td>\n",
              "      <td>0.0</td>\n",
              "      <td>2021</td>\n",
              "      <td>Sheffield United</td>\n",
              "    </tr>\n",
              "    <tr>\n",
              "      <th>1387</th>\n",
              "      <td>Matchweek 37</td>\n",
              "      <td>Away</td>\n",
              "      <td>L</td>\n",
              "      <td>0.0</td>\n",
              "      <td>1.0</td>\n",
              "      <td>Newcastle Utd</td>\n",
              "      <td>0.8</td>\n",
              "      <td>1.5</td>\n",
              "      <td>50.0</td>\n",
              "      <td>11.0</td>\n",
              "      <td>1.0</td>\n",
              "      <td>16.0</td>\n",
              "      <td>1.0</td>\n",
              "      <td>0.0</td>\n",
              "      <td>0.0</td>\n",
              "      <td>2021</td>\n",
              "      <td>Sheffield United</td>\n",
              "    </tr>\n",
              "    <tr>\n",
              "      <th>1388</th>\n",
              "      <td>Matchweek 38</td>\n",
              "      <td>Home</td>\n",
              "      <td>W</td>\n",
              "      <td>1.0</td>\n",
              "      <td>0.0</td>\n",
              "      <td>Burnley</td>\n",
              "      <td>0.6</td>\n",
              "      <td>1.0</td>\n",
              "      <td>41.0</td>\n",
              "      <td>12.0</td>\n",
              "      <td>3.0</td>\n",
              "      <td>17.0</td>\n",
              "      <td>0.0</td>\n",
              "      <td>0.0</td>\n",
              "      <td>0.0</td>\n",
              "      <td>2021</td>\n",
              "      <td>Sheffield United</td>\n",
              "    </tr>\n",
              "  </tbody>\n",
              "</table>\n",
              "<p>1389 rows × 17 columns</p>\n",
              "</div>\n",
              "      <button class=\"colab-df-convert\" onclick=\"convertToInteractive('df-d6d3e80c-75eb-4d96-b6b8-24c14d82ad26')\"\n",
              "              title=\"Convert this dataframe to an interactive table.\"\n",
              "              style=\"display:none;\">\n",
              "        \n",
              "  <svg xmlns=\"http://www.w3.org/2000/svg\" height=\"24px\"viewBox=\"0 0 24 24\"\n",
              "       width=\"24px\">\n",
              "    <path d=\"M0 0h24v24H0V0z\" fill=\"none\"/>\n",
              "    <path d=\"M18.56 5.44l.94 2.06.94-2.06 2.06-.94-2.06-.94-.94-2.06-.94 2.06-2.06.94zm-11 1L8.5 8.5l.94-2.06 2.06-.94-2.06-.94L8.5 2.5l-.94 2.06-2.06.94zm10 10l.94 2.06.94-2.06 2.06-.94-2.06-.94-.94-2.06-.94 2.06-2.06.94z\"/><path d=\"M17.41 7.96l-1.37-1.37c-.4-.4-.92-.59-1.43-.59-.52 0-1.04.2-1.43.59L10.3 9.45l-7.72 7.72c-.78.78-.78 2.05 0 2.83L4 21.41c.39.39.9.59 1.41.59.51 0 1.02-.2 1.41-.59l7.78-7.78 2.81-2.81c.8-.78.8-2.07 0-2.86zM5.41 20L4 18.59l7.72-7.72 1.47 1.35L5.41 20z\"/>\n",
              "  </svg>\n",
              "      </button>\n",
              "      \n",
              "  <style>\n",
              "    .colab-df-container {\n",
              "      display:flex;\n",
              "      flex-wrap:wrap;\n",
              "      gap: 12px;\n",
              "    }\n",
              "\n",
              "    .colab-df-convert {\n",
              "      background-color: #E8F0FE;\n",
              "      border: none;\n",
              "      border-radius: 50%;\n",
              "      cursor: pointer;\n",
              "      display: none;\n",
              "      fill: #1967D2;\n",
              "      height: 32px;\n",
              "      padding: 0 0 0 0;\n",
              "      width: 32px;\n",
              "    }\n",
              "\n",
              "    .colab-df-convert:hover {\n",
              "      background-color: #E2EBFA;\n",
              "      box-shadow: 0px 1px 2px rgba(60, 64, 67, 0.3), 0px 1px 3px 1px rgba(60, 64, 67, 0.15);\n",
              "      fill: #174EA6;\n",
              "    }\n",
              "\n",
              "    [theme=dark] .colab-df-convert {\n",
              "      background-color: #3B4455;\n",
              "      fill: #D2E3FC;\n",
              "    }\n",
              "\n",
              "    [theme=dark] .colab-df-convert:hover {\n",
              "      background-color: #434B5C;\n",
              "      box-shadow: 0px 1px 3px 1px rgba(0, 0, 0, 0.15);\n",
              "      filter: drop-shadow(0px 1px 2px rgba(0, 0, 0, 0.3));\n",
              "      fill: #FFFFFF;\n",
              "    }\n",
              "  </style>\n",
              "\n",
              "      <script>\n",
              "        const buttonEl =\n",
              "          document.querySelector('#df-d6d3e80c-75eb-4d96-b6b8-24c14d82ad26 button.colab-df-convert');\n",
              "        buttonEl.style.display =\n",
              "          google.colab.kernel.accessAllowed ? 'block' : 'none';\n",
              "\n",
              "        async function convertToInteractive(key) {\n",
              "          const element = document.querySelector('#df-d6d3e80c-75eb-4d96-b6b8-24c14d82ad26');\n",
              "          const dataTable =\n",
              "            await google.colab.kernel.invokeFunction('convertToInteractive',\n",
              "                                                     [key], {});\n",
              "          if (!dataTable) return;\n",
              "\n",
              "          const docLinkHtml = 'Like what you see? Visit the ' +\n",
              "            '<a target=\"_blank\" href=https://colab.research.google.com/notebooks/data_table.ipynb>data table notebook</a>'\n",
              "            + ' to learn more about interactive tables.';\n",
              "          element.innerHTML = '';\n",
              "          dataTable['output_type'] = 'display_data';\n",
              "          await google.colab.output.renderOutput(dataTable, element);\n",
              "          const docLink = document.createElement('div');\n",
              "          docLink.innerHTML = docLinkHtml;\n",
              "          element.appendChild(docLink);\n",
              "        }\n",
              "      </script>\n",
              "    </div>\n",
              "  </div>\n",
              "  "
            ]
          },
          "metadata": {},
          "execution_count": 313
        }
      ]
    },
    {
      "cell_type": "code",
      "source": [
        "#team count\n",
        "tc=df.groupby('team')['team'].count()\n",
        "res=df.groupby('result')['result'].count()\n",
        "res"
      ],
      "metadata": {
        "colab": {
          "base_uri": "https://localhost:8080/"
        },
        "id": "Bf9VjJbqAkkh",
        "outputId": "388f65c9-6ef5-455f-a33b-98114629813b"
      },
      "execution_count": null,
      "outputs": [
        {
          "output_type": "execute_result",
          "data": {
            "text/plain": [
              "result\n",
              "D    315\n",
              "L    548\n",
              "W    526\n",
              "Name: result, dtype: int64"
            ]
          },
          "metadata": {},
          "execution_count": 314
        }
      ]
    },
    {
      "cell_type": "code",
      "source": [
        "import matplotlib.pyplot as plt\n",
        "#graphically representation\n",
        "plt.bar(res.index, res.values)\n",
        "plt.title('result count')\n",
        "plt.xlabel('result')\n",
        "plt.ylabel('count')\n",
        "plt.xticks()\n",
        "plt.show()"
      ],
      "metadata": {
        "colab": {
          "base_uri": "https://localhost:8080/",
          "height": 472
        },
        "id": "BNSPQgxJ_F4h",
        "outputId": "0340d6b9-1793-4fce-b30c-5b7c59b3e469"
      },
      "execution_count": null,
      "outputs": [
        {
          "output_type": "display_data",
          "data": {
            "text/plain": [
              "<Figure size 640x480 with 1 Axes>"
            ],
            "image/png": "[encoded data removed]"
          },
          "metadata": {}
        }
      ]
    },
    {
      "cell_type": "code",
      "source": [
        "#which team has the most winnings\n",
        "teams=df[df['result'].isin(['W'])]['team'].value_counts()\n",
        "#to include only the rows where the 'result' column has values of 'W'.\n",
        "plt.bar(teams.index,teams.values)\n",
        "plt.xticks(rotation=90)"
      ],
      "metadata": {
        "colab": {
          "base_uri": "https://localhost:8080/",
          "height": 1000
        },
        "id": "bMJmsRm5sDJR",
        "outputId": "50d18922-f5ef-4ea9-a47e-37fc6fc448d0"
      },
      "execution_count": null,
      "outputs": [
        {
          "output_type": "execute_result",
          "data": {
            "text/plain": [
              "([0,\n",
              "  1,\n",
              "  2,\n",
              "  3,\n",
              "  4,\n",
              "  5,\n",
              "  6,\n",
              "  7,\n",
              "  8,\n",
              "  9,\n",
              "  10,\n",
              "  11,\n",
              "  12,\n",
              "  13,\n",
              "  14,\n",
              "  15,\n",
              "  16,\n",
              "  17,\n",
              "  18,\n",
              "  19,\n",
              "  20,\n",
              "  21,\n",
              "  22],\n",
              " [Text(0, 0, 'Manchester City'),\n",
              "  Text(1, 0, 'Chelsea'),\n",
              "  Text(2, 0, 'Arsenal'),\n",
              "  Text(3, 0, 'Tottenham Hotspur'),\n",
              "  Text(4, 0, 'Manchester United'),\n",
              "  Text(5, 0, 'West Ham United'),\n",
              "  Text(6, 0, 'Leicester City'),\n",
              "  Text(7, 0, 'Aston Villa'),\n",
              "  Text(8, 0, 'Wolverhampton Wanderers'),\n",
              "  Text(9, 0, 'Leeds United'),\n",
              "  Text(10, 0, 'Everton'),\n",
              "  Text(11, 0, 'Newcastle United'),\n",
              "  Text(12, 0, 'Southampton'),\n",
              "  Text(13, 0, 'Crystal Palace'),\n",
              "  Text(14, 0, 'Liverpool'),\n",
              "  Text(15, 0, 'Brighton and Hove Albion'),\n",
              "  Text(16, 0, 'Burnley'),\n",
              "  Text(17, 0, 'Brentford'),\n",
              "  Text(18, 0, 'Sheffield United'),\n",
              "  Text(19, 0, 'Watford'),\n",
              "  Text(20, 0, 'Norwich City'),\n",
              "  Text(21, 0, 'Fulham'),\n",
              "  Text(22, 0, 'West Bromwich Albion')])"
            ]
          },
          "metadata": {},
          "execution_count": 316
        },
        {
          "output_type": "display_data",
          "data": {
            "text/plain": [
              "<Figure size 640x480 with 1 Axes>"
            ],
            "image/png": "[encoded data removed]"
          },
          "metadata": {}
        }
      ]
    },
    {
      "cell_type": "code",
      "source": [
        "#datatypes\n",
        "new_df.dtypes"
      ],
      "metadata": {
        "colab": {
          "base_uri": "https://localhost:8080/"
        },
        "id": "Vd_tYSWEuf9v",
        "outputId": "3cc15da3-a22e-4530-cfc9-1b750b3e4433"
      },
      "execution_count": null,
      "outputs": [
        {
          "output_type": "execute_result",
          "data": {
            "text/plain": [
              "round        object\n",
              "venue        object\n",
              "result       object\n",
              "gf          float64\n",
              "ga          float64\n",
              "opponent     object\n",
              "xg          float64\n",
              "xga         float64\n",
              "poss        float64\n",
              "sh          float64\n",
              "sot         float64\n",
              "dist        float64\n",
              "fk          float64\n",
              "pk          float64\n",
              "pkatt       float64\n",
              "season        int64\n",
              "team         object\n",
              "dtype: object"
            ]
          },
          "metadata": {},
          "execution_count": 317
        }
      ]
    },
    {
      "cell_type": "code",
      "source": [
        "#home and away matches\n",
        "sns.countplot(x=df.venue)\n",
        "plt.title('Home-Away Matches')\n",
        "plt.show()"
      ],
      "metadata": {
        "colab": {
          "base_uri": "https://localhost:8080/",
          "height": 472
        },
        "id": "WAbhQOUf8W23",
        "outputId": "8b1d4051-9c0d-4f5e-d8a6-258ccf1d675c"
      },
      "execution_count": null,
      "outputs": [
        {
          "output_type": "display_data",
          "data": {
            "text/plain": [
              "<Figure size 640x480 with 1 Axes>"
            ],
            "image/png": "[encoded data removed]"
          },
          "metadata": {}
        }
      ]
    },
    {
      "cell_type": "code",
      "source": [
        "#converting objects to numericals\n",
        "from sklearn.preprocessing import LabelEncoder\n",
        "labelencoder=LabelEncoder()\n",
        "new_df['round']=labelencoder.fit_transform(new_df['round'])\n",
        "new_df['venue']=labelencoder.fit_transform(new_df['venue'])\n",
        "new_df['result']=labelencoder.fit_transform(new_df['result'])\n",
        "new_df['opponent']=labelencoder.fit_transform(new_df['opponent'])\n",
        "new_df['team']=labelencoder.fit_transform(new_df['team'])"
      ],
      "metadata": {
        "colab": {
          "base_uri": "https://localhost:8080/"
        },
        "id": "CykK0v_Qu6As",
        "outputId": "5a3c47ac-7956-4963-9725-7f7fd18f090d"
      },
      "execution_count": null,
      "outputs": [
        {
          "output_type": "stream",
          "name": "stderr",
          "text": [
            "<ipython-input-319-3c591f36c2d4>:4: SettingWithCopyWarning: \n",
            "A value is trying to be set on a copy of a slice from a DataFrame.\n",
            "Try using .loc[row_indexer,col_indexer] = value instead\n",
            "\n",
            "See the caveats in the documentation: https://pandas.pydata.org/pandas-docs/stable/user_guide/indexing.html#returning-a-view-versus-a-copy\n",
            "  new_df['round']=labelencoder.fit_transform(new_df['round'])\n",
            "<ipython-input-319-3c591f36c2d4>:5: SettingWithCopyWarning: \n",
            "A value is trying to be set on a copy of a slice from a DataFrame.\n",
            "Try using .loc[row_indexer,col_indexer] = value instead\n",
            "\n",
            "See the caveats in the documentation: https://pandas.pydata.org/pandas-docs/stable/user_guide/indexing.html#returning-a-view-versus-a-copy\n",
            "  new_df['venue']=labelencoder.fit_transform(new_df['venue'])\n",
            "<ipython-input-319-3c591f36c2d4>:6: SettingWithCopyWarning: \n",
            "A value is trying to be set on a copy of a slice from a DataFrame.\n",
            "Try using .loc[row_indexer,col_indexer] = value instead\n",
            "\n",
            "See the caveats in the documentation: https://pandas.pydata.org/pandas-docs/stable/user_guide/indexing.html#returning-a-view-versus-a-copy\n",
            "  new_df['result']=labelencoder.fit_transform(new_df['result'])\n",
            "<ipython-input-319-3c591f36c2d4>:7: SettingWithCopyWarning: \n",
            "A value is trying to be set on a copy of a slice from a DataFrame.\n",
            "Try using .loc[row_indexer,col_indexer] = value instead\n",
            "\n",
            "See the caveats in the documentation: https://pandas.pydata.org/pandas-docs/stable/user_guide/indexing.html#returning-a-view-versus-a-copy\n",
            "  new_df['opponent']=labelencoder.fit_transform(new_df['opponent'])\n",
            "<ipython-input-319-3c591f36c2d4>:8: SettingWithCopyWarning: \n",
            "A value is trying to be set on a copy of a slice from a DataFrame.\n",
            "Try using .loc[row_indexer,col_indexer] = value instead\n",
            "\n",
            "See the caveats in the documentation: https://pandas.pydata.org/pandas-docs/stable/user_guide/indexing.html#returning-a-view-versus-a-copy\n",
            "  new_df['team']=labelencoder.fit_transform(new_df['team'])\n"
          ]
        }
      ]
    },
    {
      "cell_type": "code",
      "source": [
        "new_df"
      ],
      "metadata": {
        "colab": {
          "base_uri": "https://localhost:8080/",
          "height": 423
        },
        "id": "0jghkxluz1Qo",
        "outputId": "f81fb289-6918-4704-ce56-aa2714614494"
      },
      "execution_count": null,
      "outputs": [
        {
          "output_type": "execute_result",
          "data": {
            "text/plain": [
              "      round  venue  result   gf   ga  opponent   xg  xga  poss    sh   sot  \\\n",
              "0         0      0       1  0.0  1.0        18  1.9  1.3  64.0  18.0   4.0   \n",
              "1        11      1       2  5.0  0.0        15  2.7  0.1  67.0  16.0   4.0   \n",
              "2        22      1       2  5.0  0.0         0  3.8  0.1  80.0  25.0  10.0   \n",
              "3        32      0       2  1.0  0.0        10  2.9  0.8  61.0  25.0   8.0   \n",
              "4        33      1       0  0.0  0.0        17  1.1  0.4  63.0  16.0   1.0   \n",
              "...     ...    ...     ...  ...  ...       ...  ...  ...   ...   ...   ...   \n",
              "1384     27      0       1  0.0  4.0        18  0.5  2.0  34.0   8.0   1.0   \n",
              "1385     28      1       1  0.0  2.0         6  0.7  2.1  50.0   7.0   0.0   \n",
              "1386     29      0       2  1.0  0.0         7  1.6  1.3  38.0  10.0   3.0   \n",
              "1387     30      0       1  0.0  1.0        14  0.8  1.5  50.0  11.0   1.0   \n",
              "1388     31      1       2  1.0  0.0         4  0.6  1.0  41.0  12.0   3.0   \n",
              "\n",
              "      dist   fk   pk  pkatt  season  team  \n",
              "0     16.9  1.0  0.0    0.0    2022    12  \n",
              "1     17.3  1.0  0.0    0.0    2022    12  \n",
              "2     14.3  0.0  0.0    0.0    2022    12  \n",
              "3     14.0  0.0  0.0    0.0    2022    12  \n",
              "4     15.7  1.0  0.0    0.0    2022    12  \n",
              "...    ...  ...  ...    ...     ...   ...  \n",
              "1384  17.4  0.0  0.0    0.0    2021    16  \n",
              "1385  11.4  1.0  0.0    0.0    2021    16  \n",
              "1386  17.0  0.0  0.0    0.0    2021    16  \n",
              "1387  16.0  1.0  0.0    0.0    2021    16  \n",
              "1388  17.0  0.0  0.0    0.0    2021    16  \n",
              "\n",
              "[1389 rows x 17 columns]"
            ],
            "text/html": [
              "\n",
              "  <div id=\"df-53fe0e8a-4ba5-46c3-9bbb-714c1d16d4f8\">\n",
              "    <div class=\"colab-df-container\">\n",
              "      <div>\n",
              "<style scoped>\n",
              "    .dataframe tbody tr th:only-of-type {\n",
              "        vertical-align: middle;\n",
              "    }\n",
              "\n",
              "    .dataframe tbody tr th {\n",
              "        vertical-align: top;\n",
              "    }\n",
              "\n",
              "    .dataframe thead th {\n",
              "        text-align: right;\n",
              "    }\n",
              "</style>\n",
              "<table border=\"1\" class=\"dataframe\">\n",
              "  <thead>\n",
              "    <tr style=\"text-align: right;\">\n",
              "      <th></th>\n",
              "      <th>round</th>\n",
              "      <th>venue</th>\n",
              "      <th>result</th>\n",
              "      <th>gf</th>\n",
              "      <th>ga</th>\n",
              "      <th>opponent</th>\n",
              "      <th>xg</th>\n",
              "      <th>xga</th>\n",
              "      <th>poss</th>\n",
              "      <th>sh</th>\n",
              "      <th>sot</th>\n",
              "      <th>dist</th>\n",
              "      <th>fk</th>\n",
              "      <th>pk</th>\n",
              "      <th>pkatt</th>\n",
              "      <th>season</th>\n",
              "      <th>team</th>\n",
              "    </tr>\n",
              "  </thead>\n",
              "  <tbody>\n",
              "    <tr>\n",
              "      <th>0</th>\n",
              "      <td>0</td>\n",
              "      <td>0</td>\n",
              "      <td>1</td>\n",
              "      <td>0.0</td>\n",
              "      <td>1.0</td>\n",
              "      <td>18</td>\n",
              "      <td>1.9</td>\n",
              "      <td>1.3</td>\n",
              "      <td>64.0</td>\n",
              "      <td>18.0</td>\n",
              "      <td>4.0</td>\n",
              "      <td>16.9</td>\n",
              "      <td>1.0</td>\n",
              "      <td>0.0</td>\n",
              "      <td>0.0</td>\n",
              "      <td>2022</td>\n",
              "      <td>12</td>\n",
              "    </tr>\n",
              "    <tr>\n",
              "      <th>1</th>\n",
              "      <td>11</td>\n",
              "      <td>1</td>\n",
              "      <td>2</td>\n",
              "      <td>5.0</td>\n",
              "      <td>0.0</td>\n",
              "      <td>15</td>\n",
              "      <td>2.7</td>\n",
              "      <td>0.1</td>\n",
              "      <td>67.0</td>\n",
              "      <td>16.0</td>\n",
              "      <td>4.0</td>\n",
              "      <td>17.3</td>\n",
              "      <td>1.0</td>\n",
              "      <td>0.0</td>\n",
              "      <td>0.0</td>\n",
              "      <td>2022</td>\n",
              "      <td>12</td>\n",
              "    </tr>\n",
              "    <tr>\n",
              "      <th>2</th>\n",
              "      <td>22</td>\n",
              "      <td>1</td>\n",
              "      <td>2</td>\n",
              "      <td>5.0</td>\n",
              "      <td>0.0</td>\n",
              "      <td>0</td>\n",
              "      <td>3.8</td>\n",
              "      <td>0.1</td>\n",
              "      <td>80.0</td>\n",
              "      <td>25.0</td>\n",
              "      <td>10.0</td>\n",
              "      <td>14.3</td>\n",
              "      <td>0.0</td>\n",
              "      <td>0.0</td>\n",
              "      <td>0.0</td>\n",
              "      <td>2022</td>\n",
              "      <td>12</td>\n",
              "    </tr>\n",
              "    <tr>\n",
              "      <th>3</th>\n",
              "      <td>32</td>\n",
              "      <td>0</td>\n",
              "      <td>2</td>\n",
              "      <td>1.0</td>\n",
              "      <td>0.0</td>\n",
              "      <td>10</td>\n",
              "      <td>2.9</td>\n",
              "      <td>0.8</td>\n",
              "      <td>61.0</td>\n",
              "      <td>25.0</td>\n",
              "      <td>8.0</td>\n",
              "      <td>14.0</td>\n",
              "      <td>0.0</td>\n",
              "      <td>0.0</td>\n",
              "      <td>0.0</td>\n",
              "      <td>2022</td>\n",
              "      <td>12</td>\n",
              "    </tr>\n",
              "    <tr>\n",
              "      <th>4</th>\n",
              "      <td>33</td>\n",
              "      <td>1</td>\n",
              "      <td>0</td>\n",
              "      <td>0.0</td>\n",
              "      <td>0.0</td>\n",
              "      <td>17</td>\n",
              "      <td>1.1</td>\n",
              "      <td>0.4</td>\n",
              "      <td>63.0</td>\n",
              "      <td>16.0</td>\n",
              "      <td>1.0</td>\n",
              "      <td>15.7</td>\n",
              "      <td>1.0</td>\n",
              "      <td>0.0</td>\n",
              "      <td>0.0</td>\n",
              "      <td>2022</td>\n",
              "      <td>12</td>\n",
              "    </tr>\n",
              "    <tr>\n",
              "      <th>...</th>\n",
              "      <td>...</td>\n",
              "      <td>...</td>\n",
              "      <td>...</td>\n",
              "      <td>...</td>\n",
              "      <td>...</td>\n",
              "      <td>...</td>\n",
              "      <td>...</td>\n",
              "      <td>...</td>\n",
              "      <td>...</td>\n",
              "      <td>...</td>\n",
              "      <td>...</td>\n",
              "      <td>...</td>\n",
              "      <td>...</td>\n",
              "      <td>...</td>\n",
              "      <td>...</td>\n",
              "      <td>...</td>\n",
              "      <td>...</td>\n",
              "    </tr>\n",
              "    <tr>\n",
              "      <th>1384</th>\n",
              "      <td>27</td>\n",
              "      <td>0</td>\n",
              "      <td>1</td>\n",
              "      <td>0.0</td>\n",
              "      <td>4.0</td>\n",
              "      <td>18</td>\n",
              "      <td>0.5</td>\n",
              "      <td>2.0</td>\n",
              "      <td>34.0</td>\n",
              "      <td>8.0</td>\n",
              "      <td>1.0</td>\n",
              "      <td>17.4</td>\n",
              "      <td>0.0</td>\n",
              "      <td>0.0</td>\n",
              "      <td>0.0</td>\n",
              "      <td>2021</td>\n",
              "      <td>16</td>\n",
              "    </tr>\n",
              "    <tr>\n",
              "      <th>1385</th>\n",
              "      <td>28</td>\n",
              "      <td>1</td>\n",
              "      <td>1</td>\n",
              "      <td>0.0</td>\n",
              "      <td>2.0</td>\n",
              "      <td>6</td>\n",
              "      <td>0.7</td>\n",
              "      <td>2.1</td>\n",
              "      <td>50.0</td>\n",
              "      <td>7.0</td>\n",
              "      <td>0.0</td>\n",
              "      <td>11.4</td>\n",
              "      <td>1.0</td>\n",
              "      <td>0.0</td>\n",
              "      <td>0.0</td>\n",
              "      <td>2021</td>\n",
              "      <td>16</td>\n",
              "    </tr>\n",
              "    <tr>\n",
              "      <th>1386</th>\n",
              "      <td>29</td>\n",
              "      <td>0</td>\n",
              "      <td>2</td>\n",
              "      <td>1.0</td>\n",
              "      <td>0.0</td>\n",
              "      <td>7</td>\n",
              "      <td>1.6</td>\n",
              "      <td>1.3</td>\n",
              "      <td>38.0</td>\n",
              "      <td>10.0</td>\n",
              "      <td>3.0</td>\n",
              "      <td>17.0</td>\n",
              "      <td>0.0</td>\n",
              "      <td>0.0</td>\n",
              "      <td>0.0</td>\n",
              "      <td>2021</td>\n",
              "      <td>16</td>\n",
              "    </tr>\n",
              "    <tr>\n",
              "      <th>1387</th>\n",
              "      <td>30</td>\n",
              "      <td>0</td>\n",
              "      <td>1</td>\n",
              "      <td>0.0</td>\n",
              "      <td>1.0</td>\n",
              "      <td>14</td>\n",
              "      <td>0.8</td>\n",
              "      <td>1.5</td>\n",
              "      <td>50.0</td>\n",
              "      <td>11.0</td>\n",
              "      <td>1.0</td>\n",
              "      <td>16.0</td>\n",
              "      <td>1.0</td>\n",
              "      <td>0.0</td>\n",
              "      <td>0.0</td>\n",
              "      <td>2021</td>\n",
              "      <td>16</td>\n",
              "    </tr>\n",
              "    <tr>\n",
              "      <th>1388</th>\n",
              "      <td>31</td>\n",
              "      <td>1</td>\n",
              "      <td>2</td>\n",
              "      <td>1.0</td>\n",
              "      <td>0.0</td>\n",
              "      <td>4</td>\n",
              "      <td>0.6</td>\n",
              "      <td>1.0</td>\n",
              "      <td>41.0</td>\n",
              "      <td>12.0</td>\n",
              "      <td>3.0</td>\n",
              "      <td>17.0</td>\n",
              "      <td>0.0</td>\n",
              "      <td>0.0</td>\n",
              "      <td>0.0</td>\n",
              "      <td>2021</td>\n",
              "      <td>16</td>\n",
              "    </tr>\n",
              "  </tbody>\n",
              "</table>\n",
              "<p>1389 rows × 17 columns</p>\n",
              "</div>\n",
              "      <button class=\"colab-df-convert\" onclick=\"convertToInteractive('df-53fe0e8a-4ba5-46c3-9bbb-714c1d16d4f8')\"\n",
              "              title=\"Convert this dataframe to an interactive table.\"\n",
              "              style=\"display:none;\">\n",
              "        \n",
              "  <svg xmlns=\"http://www.w3.org/2000/svg\" height=\"24px\"viewBox=\"0 0 24 24\"\n",
              "       width=\"24px\">\n",
              "    <path d=\"M0 0h24v24H0V0z\" fill=\"none\"/>\n",
              "    <path d=\"M18.56 5.44l.94 2.06.94-2.06 2.06-.94-2.06-.94-.94-2.06-.94 2.06-2.06.94zm-11 1L8.5 8.5l.94-2.06 2.06-.94-2.06-.94L8.5 2.5l-.94 2.06-2.06.94zm10 10l.94 2.06.94-2.06 2.06-.94-2.06-.94-.94-2.06-.94 2.06-2.06.94z\"/><path d=\"M17.41 7.96l-1.37-1.37c-.4-.4-.92-.59-1.43-.59-.52 0-1.04.2-1.43.59L10.3 9.45l-7.72 7.72c-.78.78-.78 2.05 0 2.83L4 21.41c.39.39.9.59 1.41.59.51 0 1.02-.2 1.41-.59l7.78-7.78 2.81-2.81c.8-.78.8-2.07 0-2.86zM5.41 20L4 18.59l7.72-7.72 1.47 1.35L5.41 20z\"/>\n",
              "  </svg>\n",
              "      </button>\n",
              "      \n",
              "  <style>\n",
              "    .colab-df-container {\n",
              "      display:flex;\n",
              "      flex-wrap:wrap;\n",
              "      gap: 12px;\n",
              "    }\n",
              "\n",
              "    .colab-df-convert {\n",
              "      background-color: #E8F0FE;\n",
              "      border: none;\n",
              "      border-radius: 50%;\n",
              "      cursor: pointer;\n",
              "      display: none;\n",
              "      fill: #1967D2;\n",
              "      height: 32px;\n",
              "      padding: 0 0 0 0;\n",
              "      width: 32px;\n",
              "    }\n",
              "\n",
              "    .colab-df-convert:hover {\n",
              "      background-color: #E2EBFA;\n",
              "      box-shadow: 0px 1px 2px rgba(60, 64, 67, 0.3), 0px 1px 3px 1px rgba(60, 64, 67, 0.15);\n",
              "      fill: #174EA6;\n",
              "    }\n",
              "\n",
              "    [theme=dark] .colab-df-convert {\n",
              "      background-color: #3B4455;\n",
              "      fill: #D2E3FC;\n",
              "    }\n",
              "\n",
              "    [theme=dark] .colab-df-convert:hover {\n",
              "      background-color: #434B5C;\n",
              "      box-shadow: 0px 1px 3px 1px rgba(0, 0, 0, 0.15);\n",
              "      filter: drop-shadow(0px 1px 2px rgba(0, 0, 0, 0.3));\n",
              "      fill: #FFFFFF;\n",
              "    }\n",
              "  </style>\n",
              "\n",
              "      <script>\n",
              "        const buttonEl =\n",
              "          document.querySelector('#df-53fe0e8a-4ba5-46c3-9bbb-714c1d16d4f8 button.colab-df-convert');\n",
              "        buttonEl.style.display =\n",
              "          google.colab.kernel.accessAllowed ? 'block' : 'none';\n",
              "\n",
              "        async function convertToInteractive(key) {\n",
              "          const element = document.querySelector('#df-53fe0e8a-4ba5-46c3-9bbb-714c1d16d4f8');\n",
              "          const dataTable =\n",
              "            await google.colab.kernel.invokeFunction('convertToInteractive',\n",
              "                                                     [key], {});\n",
              "          if (!dataTable) return;\n",
              "\n",
              "          const docLinkHtml = 'Like what you see? Visit the ' +\n",
              "            '<a target=\"_blank\" href=https://colab.research.google.com/notebooks/data_table.ipynb>data table notebook</a>'\n",
              "            + ' to learn more about interactive tables.';\n",
              "          element.innerHTML = '';\n",
              "          dataTable['output_type'] = 'display_data';\n",
              "          await google.colab.output.renderOutput(dataTable, element);\n",
              "          const docLink = document.createElement('div');\n",
              "          docLink.innerHTML = docLinkHtml;\n",
              "          element.appendChild(docLink);\n",
              "        }\n",
              "      </script>\n",
              "    </div>\n",
              "  </div>\n",
              "  "
            ]
          },
          "metadata": {},
          "execution_count": 320
        }
      ]
    },
    {
      "cell_type": "code",
      "source": [
        "#dtypes\n",
        "new_df.dtypes"
      ],
      "metadata": {
        "colab": {
          "base_uri": "https://localhost:8080/"
        },
        "id": "-39FZLVDz4ml",
        "outputId": "3ec6065a-5717-407a-b692-fd3c7886cab3"
      },
      "execution_count": null,
      "outputs": [
        {
          "output_type": "execute_result",
          "data": {
            "text/plain": [
              "round         int64\n",
              "venue         int64\n",
              "result        int64\n",
              "gf          float64\n",
              "ga          float64\n",
              "opponent      int64\n",
              "xg          float64\n",
              "xga         float64\n",
              "poss        float64\n",
              "sh          float64\n",
              "sot         float64\n",
              "dist        float64\n",
              "fk          float64\n",
              "pk          float64\n",
              "pkatt       float64\n",
              "season        int64\n",
              "team          int64\n",
              "dtype: object"
            ]
          },
          "metadata": {},
          "execution_count": 321
        }
      ]
    },
    {
      "cell_type": "code",
      "source": [
        "#checking missing vales\n",
        "new_df.isna().sum()"
      ],
      "metadata": {
        "colab": {
          "base_uri": "https://localhost:8080/"
        },
        "id": "PW80LaSV3hTq",
        "outputId": "3e02484f-c722-4a82-c81c-de4746cdf924"
      },
      "execution_count": null,
      "outputs": [
        {
          "output_type": "execute_result",
          "data": {
            "text/plain": [
              "round       0\n",
              "venue       0\n",
              "result      0\n",
              "gf          0\n",
              "ga          0\n",
              "opponent    0\n",
              "xg          0\n",
              "xga         0\n",
              "poss        0\n",
              "sh          0\n",
              "sot         0\n",
              "dist        1\n",
              "fk          0\n",
              "pk          0\n",
              "pkatt       0\n",
              "season      0\n",
              "team        0\n",
              "dtype: int64"
            ]
          },
          "metadata": {},
          "execution_count": 322
        }
      ]
    },
    {
      "cell_type": "code",
      "source": [
        "#filling missing values\n",
        "new_df['dist']=new_df['dist'].fillna(new_df['dist'].mean())\n",
        "new_df.isna().sum()"
      ],
      "metadata": {
        "colab": {
          "base_uri": "https://localhost:8080/"
        },
        "id": "56VEpr3qC9iV",
        "outputId": "dd183a91-6b21-4dba-9b88-38dc665530eb"
      },
      "execution_count": null,
      "outputs": [
        {
          "output_type": "stream",
          "name": "stderr",
          "text": [
            "<ipython-input-323-a16ae0dc32b3>:2: SettingWithCopyWarning: \n",
            "A value is trying to be set on a copy of a slice from a DataFrame.\n",
            "Try using .loc[row_indexer,col_indexer] = value instead\n",
            "\n",
            "See the caveats in the documentation: https://pandas.pydata.org/pandas-docs/stable/user_guide/indexing.html#returning-a-view-versus-a-copy\n",
            "  new_df['dist']=new_df['dist'].fillna(new_df['dist'].mean())\n"
          ]
        },
        {
          "output_type": "execute_result",
          "data": {
            "text/plain": [
              "round       0\n",
              "venue       0\n",
              "result      0\n",
              "gf          0\n",
              "ga          0\n",
              "opponent    0\n",
              "xg          0\n",
              "xga         0\n",
              "poss        0\n",
              "sh          0\n",
              "sot         0\n",
              "dist        0\n",
              "fk          0\n",
              "pk          0\n",
              "pkatt       0\n",
              "season      0\n",
              "team        0\n",
              "dtype: int64"
            ]
          },
          "metadata": {},
          "execution_count": 323
        }
      ]
    },
    {
      "cell_type": "code",
      "source": [
        "#seperating x and y\n",
        "x=new_df.drop(columns=['result']).values\n",
        "x"
      ],
      "metadata": {
        "colab": {
          "base_uri": "https://localhost:8080/"
        },
        "id": "pE5nG5sQ0V6M",
        "outputId": "64132065-bdde-4997-fc59-c7a7e512e68e"
      },
      "execution_count": null,
      "outputs": [
        {
          "output_type": "execute_result",
          "data": {
            "text/plain": [
              "array([[0.000e+00, 0.000e+00, 0.000e+00, ..., 0.000e+00, 2.022e+03,\n",
              "        1.200e+01],\n",
              "       [1.100e+01, 1.000e+00, 5.000e+00, ..., 0.000e+00, 2.022e+03,\n",
              "        1.200e+01],\n",
              "       [2.200e+01, 1.000e+00, 5.000e+00, ..., 0.000e+00, 2.022e+03,\n",
              "        1.200e+01],\n",
              "       ...,\n",
              "       [2.900e+01, 0.000e+00, 1.000e+00, ..., 0.000e+00, 2.021e+03,\n",
              "        1.600e+01],\n",
              "       [3.000e+01, 0.000e+00, 0.000e+00, ..., 0.000e+00, 2.021e+03,\n",
              "        1.600e+01],\n",
              "       [3.100e+01, 1.000e+00, 1.000e+00, ..., 0.000e+00, 2.021e+03,\n",
              "        1.600e+01]])"
            ]
          },
          "metadata": {},
          "execution_count": 324
        }
      ]
    },
    {
      "cell_type": "code",
      "source": [
        "y=new_df['result']\n",
        "y"
      ],
      "metadata": {
        "colab": {
          "base_uri": "https://localhost:8080/"
        },
        "id": "lKzHCLpT2h5w",
        "outputId": "3d19f024-0b88-410a-cfef-31f7d25e5196"
      },
      "execution_count": null,
      "outputs": [
        {
          "output_type": "execute_result",
          "data": {
            "text/plain": [
              "0       1\n",
              "1       2\n",
              "2       2\n",
              "3       2\n",
              "4       0\n",
              "       ..\n",
              "1384    1\n",
              "1385    1\n",
              "1386    2\n",
              "1387    1\n",
              "1388    2\n",
              "Name: result, Length: 1389, dtype: int64"
            ]
          },
          "metadata": {},
          "execution_count": 325
        }
      ]
    },
    {
      "cell_type": "code",
      "source": [
        "#training and testing data\n",
        "from sklearn.model_selection import train_test_split\n",
        "x_train,x_test,y_train,y_test=train_test_split(x,y,test_size=.30,random_state=42)"
      ],
      "metadata": {
        "id": "hpwkGhmF2rSs"
      },
      "execution_count": null,
      "outputs": []
    },
    {
      "cell_type": "code",
      "source": [
        "#normalisation\n",
        "from sklearn.preprocessing import StandardScaler\n",
        "scaler=StandardScaler()\n",
        "scaler.fit(x_train)\n",
        "x_train=scaler.fit_transform(x_train)\n",
        "x_test=scaler.fit_transform(x_test)"
      ],
      "metadata": {
        "id": "o1AayJeA3F0_"
      },
      "execution_count": null,
      "outputs": []
    },
    {
      "cell_type": "markdown",
      "source": [
        "IMPLIMENTING ALGORITHMS\n"
      ],
      "metadata": {
        "id": "vwk8xnoErcbA"
      }
    },
    {
      "cell_type": "code",
      "source": [
        "from sklearn.neighbors import KNeighborsClassifier\n",
        "from sklearn.svm import SVC\n",
        "from sklearn.ensemble import RandomForestClassifier\n",
        "model1=KNeighborsClassifier(n_neighbors=7)\n",
        "model2=SVC()\n",
        "model3=RandomForestClassifier()\n",
        "model=[model1,model2,model3]"
      ],
      "metadata": {
        "id": "uJehhpuf50_4"
      },
      "execution_count": null,
      "outputs": []
    },
    {
      "cell_type": "code",
      "source": [
        "from sklearn.metrics import confusion_matrix,accuracy_score,classification_report\n",
        "for i in model:\n",
        "  i.fit(x_train,y_train)\n",
        "  y_pred=i.predict(x_test)\n",
        "  result=confusion_matrix(y_test,y_pred)\n",
        "  print(result)\n",
        "  print(accuracy_score(y_test,y_pred))\n",
        "  print(classification_report(y_test,y_pred))\n",
        "  print(\"*\"*100)"
      ],
      "metadata": {
        "colab": {
          "base_uri": "https://localhost:8080/"
        },
        "id": "WpJpKsc355L9",
        "outputId": "dfe0bab7-9863-455f-de62-d0f83443ad11"
      },
      "execution_count": null,
      "outputs": [
        {
          "output_type": "stream",
          "name": "stdout",
          "text": [
            "[[ 43  26  29]\n",
            " [ 31 127  11]\n",
            " [ 23   6 121]]\n",
            "0.697841726618705\n",
            "              precision    recall  f1-score   support\n",
            "\n",
            "           0       0.44      0.44      0.44        98\n",
            "           1       0.80      0.75      0.77       169\n",
            "           2       0.75      0.81      0.78       150\n",
            "\n",
            "    accuracy                           0.70       417\n",
            "   macro avg       0.66      0.67      0.66       417\n",
            "weighted avg       0.70      0.70      0.70       417\n",
            "\n",
            "****************************************************************************************************\n",
            "[[ 86   0  12]\n",
            " [  4 164   1]\n",
            " [  1   0 149]]\n",
            "0.9568345323741008\n",
            "              precision    recall  f1-score   support\n",
            "\n",
            "           0       0.95      0.88      0.91        98\n",
            "           1       1.00      0.97      0.98       169\n",
            "           2       0.92      0.99      0.96       150\n",
            "\n",
            "    accuracy                           0.96       417\n",
            "   macro avg       0.95      0.95      0.95       417\n",
            "weighted avg       0.96      0.96      0.96       417\n",
            "\n",
            "****************************************************************************************************\n",
            "[[ 89   2   7]\n",
            " [  1 166   2]\n",
            " [  0   0 150]]\n",
            "0.9712230215827338\n",
            "              precision    recall  f1-score   support\n",
            "\n",
            "           0       0.99      0.91      0.95        98\n",
            "           1       0.99      0.98      0.99       169\n",
            "           2       0.94      1.00      0.97       150\n",
            "\n",
            "    accuracy                           0.97       417\n",
            "   macro avg       0.97      0.96      0.97       417\n",
            "weighted avg       0.97      0.97      0.97       417\n",
            "\n",
            "****************************************************************************************************\n"
          ]
        }
      ]
    },
    {
      "cell_type": "markdown",
      "source": [
        "CREATING PREDICTORS"
      ],
      "metadata": {
        "id": "K1DkiGcxrugo"
      }
    },
    {
      "cell_type": "code",
      "source": [
        "#predictions\n",
        "#since model3 random forest classifier has the highest accuracy so we use model4\n",
        "pred=model3.predict(scaler.transform([[32,0,1.0,0.0,10,2.9,0.8,61.0,25.0,8.0,14.0,0.0,0.0,0.0,2022,12]]))\n",
        "pred\n",
        "if(pred>0):\n",
        "  print('Win')\n",
        "else:\n",
        "  print('Lose')"
      ],
      "metadata": {
        "colab": {
          "base_uri": "https://localhost:8080/"
        },
        "id": "v3fjhQfynt6d",
        "outputId": "af69adbe-2425-433b-940b-42d06a5122d6"
      },
      "execution_count": null,
      "outputs": [
        {
          "output_type": "stream",
          "name": "stdout",
          "text": [
            "Win\n"
          ]
        }
      ]
    }
  ]
}